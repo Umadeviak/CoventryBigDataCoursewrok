{
 "cells": [
  {
   "cell_type": "code",
   "execution_count": 4,
   "id": "0c46422d",
   "metadata": {},
   "outputs": [],
   "source": [
    "#Importing PySpark and SparkContext\n",
    "import pyspark\n",
    "from pyspark import SparkContext\n",
    "sc =SparkContext()"
   ]
  },
  {
   "cell_type": "code",
   "execution_count": 4,
   "id": "c0f90714",
   "metadata": {},
   "outputs": [],
   "source": [
    "#Reading data into a rdd\n",
    "rdd = sc.textFile('AmazonReviewData.csv')"
   ]
  },
  {
   "cell_type": "code",
   "execution_count": 5,
   "id": "63d5647b",
   "metadata": {},
   "outputs": [
    {
     "data": {
      "text/plain": [
       "'id,Name,asins,brand,categories,keys,manufacturer,ReviewsDate,ReviewsdateAdded,ReviewsDateSeen,reviews.didPurchase,reviews.doRecommend,reviews.id,reviews.numHelpful,reviews.rating,reviews.text,reviews.title,reviews.userCity,reviews.userProvince,reviews.username'"
      ]
     },
     "execution_count": 5,
     "metadata": {},
     "output_type": "execute_result"
    }
   ],
   "source": [
    "#Displaying Headers\n",
    "rdd.first()"
   ]
  },
  {
   "cell_type": "code",
   "execution_count": 6,
   "id": "1def9591",
   "metadata": {},
   "outputs": [
    {
     "data": {
      "text/plain": [
       "'AVqkIhwDv8e3D1O-lebb,All-New Fire HD 8 Tablet- 8 HD,B01AHB9CN2,Amazon,Electronics-iPad  - Tablets-All Tablets-Fire Tablets-Tablets-Computers  - Tablets,841667104676-amazon/53004484-amazon/b01ahb9cn2-0841667104676-allnewfirehd8tablet8hddisplaywifi16gbincludesspecialoffersmagenta/5620406-allnewfirehd8tablet8hddisplaywifi16gbincludesspecialoffersmagenta/b01ahb9cn2,Amazon,1/13/17,7/3/17,6/7/17, FALSE,TRUE,,0,5,This product so far has not disappointed. My children love to use it and I like the ability to monitor control what content they see with ease.,Kindle,,,Adapter'"
      ]
     },
     "execution_count": 6,
     "metadata": {},
     "output_type": "execute_result"
    }
   ],
   "source": [
    "#Displaying First line of data\n",
    "rdd_head = rdd.first()\n",
    "rdd1 = rdd.filter(lambda line:line != rdd_head)\n",
    "rdd1.first()"
   ]
  },
  {
   "cell_type": "code",
   "execution_count": 7,
   "id": "5fc1fa4a",
   "metadata": {},
   "outputs": [
    {
     "data": {
      "text/plain": [
       "[['AVqkIhwDv8e3D1O-lebb',\n",
       "  'All-New Fire HD 8 Tablet- 8 HD',\n",
       "  'B01AHB9CN2',\n",
       "  'Amazon',\n",
       "  'Electronics-iPad  - Tablets-All Tablets-Fire Tablets-Tablets-Computers  - Tablets',\n",
       "  '841667104676-amazon/53004484-amazon/b01ahb9cn2-0841667104676-allnewfirehd8tablet8hddisplaywifi16gbincludesspecialoffersmagenta/5620406-allnewfirehd8tablet8hddisplaywifi16gbincludesspecialoffersmagenta/b01ahb9cn2',\n",
       "  'Amazon',\n",
       "  '1/13/17',\n",
       "  '7/3/17',\n",
       "  '6/7/17',\n",
       "  ' FALSE',\n",
       "  'TRUE',\n",
       "  '',\n",
       "  '0',\n",
       "  '5',\n",
       "  'This product so far has not disappointed. My children love to use it and I like the ability to monitor control what content they see with ease.',\n",
       "  'Kindle',\n",
       "  '',\n",
       "  '',\n",
       "  'Adapter']]"
      ]
     },
     "execution_count": 7,
     "metadata": {},
     "output_type": "execute_result"
    }
   ],
   "source": [
    "rdd1.map(lambda line:line.split(',')).take(1)"
   ]
  },
  {
   "cell_type": "code",
   "execution_count": 5,
   "id": "e95ec7b1",
   "metadata": {},
   "outputs": [],
   "source": [
    "from pyspark.sql import*"
   ]
  },
  {
   "cell_type": "code",
   "execution_count": 6,
   "id": "060149c7",
   "metadata": {},
   "outputs": [],
   "source": [
    "sqlContext = SQLContext(sc)"
   ]
  },
  {
   "cell_type": "code",
   "execution_count": 7,
   "id": "8184ef73",
   "metadata": {},
   "outputs": [],
   "source": [
    "df=sqlContext.read.csv(\"AmazonReviewData.csv\", header=True)"
   ]
  },
  {
   "cell_type": "code",
   "execution_count": 11,
   "id": "2067d80d",
   "metadata": {},
   "outputs": [
    {
     "data": {
      "text/plain": [
       "34658"
      ]
     },
     "execution_count": 11,
     "metadata": {},
     "output_type": "execute_result"
    }
   ],
   "source": [
    "df.count()"
   ]
  },
  {
   "cell_type": "code",
   "execution_count": 12,
   "id": "73bae7dc",
   "metadata": {},
   "outputs": [
    {
     "name": "stdout",
     "output_type": "stream",
     "text": [
      "root\n",
      " |-- id: string (nullable = true)\n",
      " |-- Name: string (nullable = true)\n",
      " |-- asins: string (nullable = true)\n",
      " |-- brand: string (nullable = true)\n",
      " |-- categories: string (nullable = true)\n",
      " |-- keys: string (nullable = true)\n",
      " |-- manufacturer: string (nullable = true)\n",
      " |-- ReviewsDate: string (nullable = true)\n",
      " |-- ReviewsdateAdded: string (nullable = true)\n",
      " |-- ReviewsDateSeen: string (nullable = true)\n",
      " |-- reviews.didPurchase: string (nullable = true)\n",
      " |-- reviews.doRecommend: string (nullable = true)\n",
      " |-- reviews.id: string (nullable = true)\n",
      " |-- reviews.numHelpful: string (nullable = true)\n",
      " |-- reviews.rating: string (nullable = true)\n",
      " |-- reviews.text: string (nullable = true)\n",
      " |-- reviews.title: string (nullable = true)\n",
      " |-- reviews.userCity: string (nullable = true)\n",
      " |-- reviews.userProvince: string (nullable = true)\n",
      " |-- reviews.username: string (nullable = true)\n",
      "\n"
     ]
    }
   ],
   "source": [
    "df.printSchema()"
   ]
  },
  {
   "cell_type": "code",
   "execution_count": 8,
   "id": "5537ce54",
   "metadata": {},
   "outputs": [],
   "source": [
    "df = df.withColumnRenamed(\"id\",\"ProductID\")\n",
    "df = df.withColumnRenamed(\"name\",\"ProductName\")\n",
    "df = df.withColumnRenamed(\"asins\",\"ProductAsins\")\n",
    "df = df.withColumnRenamed(\"brand\",\"ProductBrand\")\n",
    "df = df.withColumnRenamed(\"categories\",\"ProductCategory\")\n",
    "df = df.withColumnRenamed(\"key\",\"ProductKey\")\n",
    "df = df.withColumnRenamed(\"manufacturer\",\"ProductManufacturer\")\n",
    "df = df.withColumnRenamed(\"ReviewsDate\",\"ProductLauncheddate\")\n",
    "df = df.withColumnRenamed(\"reviews.doRecommended\",\"RecommendStatus\")\n",
    "df = df.withColumnRenamed(\"reviews.id\",\"ReviewID\")\n",
    "df = df.withColumnRenamed(\"reviews.numHelpful\",\"ReviewHelpfulStatus\")\n",
    "df = df.withColumnRenamed(\"reviews.rating\",\"ReviewRating\")\n",
    "df = df.withColumnRenamed(\"reviews.sourceURLs\",\"ReviewURL\")\n",
    "df = df.withColumnRenamed(\"reviews.text\",\"ReviewText\")\n",
    "df = df.withColumnRenamed(\"reviews.title\",\"ReviewTitle\")\n",
    "df = df.withColumnRenamed(\"reviews.username\",\"ReviewUserName\")\n"
   ]
  },
  {
   "cell_type": "code",
   "execution_count": 18,
   "id": "c9a3d151",
   "metadata": {},
   "outputs": [
    {
     "name": "stdout",
     "output_type": "stream",
     "text": [
      "root\n",
      " |-- ProductID: string (nullable = true)\n",
      " |-- ProductName: string (nullable = true)\n",
      " |-- ProductAsins: string (nullable = true)\n",
      " |-- ProductBrand: string (nullable = true)\n",
      " |-- ProductCategory: string (nullable = true)\n",
      " |-- keys: string (nullable = true)\n",
      " |-- ProductManufacturer: string (nullable = true)\n",
      " |-- ProductLauncheddate: string (nullable = true)\n",
      " |-- ReviewsdateAdded: string (nullable = true)\n",
      " |-- ReviewsDateSeen: string (nullable = true)\n",
      " |-- PurchaseStatus: string (nullable = true)\n",
      " |-- RecommendStatus: string (nullable = true)\n",
      " |-- ReviewID: string (nullable = true)\n",
      " |-- ReviewHelpfulStatus: string (nullable = true)\n",
      " |-- ReviewRating: string (nullable = true)\n",
      " |-- ReviewText: string (nullable = true)\n",
      " |-- ReviewTitle: string (nullable = true)\n",
      " |-- ReviewUserCity: string (nullable = true)\n",
      " |-- ReviewUserProvince: string (nullable = true)\n",
      " |-- ReviewUserName: string (nullable = true)\n",
      "\n"
     ]
    }
   ],
   "source": [
    "df.printSchema()"
   ]
  },
  {
   "cell_type": "code",
   "execution_count": 9,
   "id": "93f8f1f6",
   "metadata": {},
   "outputs": [],
   "source": [
    "df = df.withColumnRenamed(\"reviews.userCity\",\"ReviewUserCity\")\n",
    "df = df.withColumnRenamed(\"reviews.userProvince\",\"ReviewUserProvince\")"
   ]
  },
  {
   "cell_type": "code",
   "execution_count": 10,
   "id": "a432ed22",
   "metadata": {},
   "outputs": [],
   "source": [
    "df = df.withColumnRenamed(\"reviews.didPurchase\",\"PurchaseStatus\")\n",
    "df = df.withColumnRenamed(\"reviews.doRecommend\",\"RecommendStatus\")"
   ]
  },
  {
   "cell_type": "code",
   "execution_count": 21,
   "id": "24ddcccc",
   "metadata": {},
   "outputs": [
    {
     "name": "stdout",
     "output_type": "stream",
     "text": [
      "+----------------+---------------+-------------------+\n",
      "|ReviewsdateAdded|ReviewsDateSeen|ProductLaunchedDate|\n",
      "+----------------+---------------+-------------------+\n",
      "|           10619|              0|                 39|\n",
      "+----------------+---------------+-------------------+\n",
      "\n"
     ]
    }
   ],
   "source": [
    "from pyspark.sql.functions import col,isnan,when,count\n",
    "df_Columns=[\"ReviewsdateAdded\",\"ReviewsDateSeen\",\"ProductLaunchedDate\"]\n",
    "df2 = df.select([count(when(col(c).contains('None') | \\\n",
    "                            col(c).contains('NULL') | \\\n",
    "                            (col(c) == '' ) | \\\n",
    "                            col(c).isNull() | \\\n",
    "                            isnan(c), c \n",
    "                           )).alias(c)\n",
    "                    for c in df_Columns])\n",
    "df2.show()"
   ]
  },
  {
   "cell_type": "code",
   "execution_count": 22,
   "id": "6835a439",
   "metadata": {},
   "outputs": [],
   "source": [
    "from pyspark.sql.functions import coalesce\n",
    "    \n",
    "df = df.withColumn(\"ReviewsdateAdded\",coalesce(df.ReviewsdateAdded,df.ReviewsDateSeen))"
   ]
  },
  {
   "cell_type": "code",
   "execution_count": 27,
   "id": "09c91564",
   "metadata": {},
   "outputs": [],
   "source": [
    "df = df.withColumn(\"ProductLauncheddate\",coalesce(df.ProductLauncheddate,df.ReviewsdateAdded))"
   ]
  },
  {
   "cell_type": "code",
   "execution_count": 28,
   "id": "94604dd4",
   "metadata": {},
   "outputs": [
    {
     "name": "stdout",
     "output_type": "stream",
     "text": [
      "+----------------+---------------+-------------------+\n",
      "|ReviewsdateAdded|ReviewsDateSeen|ProductLaunchedDate|\n",
      "+----------------+---------------+-------------------+\n",
      "|               0|              0|                  0|\n",
      "+----------------+---------------+-------------------+\n",
      "\n"
     ]
    }
   ],
   "source": [
    "from pyspark.sql.functions import col,isnan,when,count\n",
    "df_Columns=[\"ReviewsdateAdded\",\"ReviewsDateSeen\",\"ProductLaunchedDate\"]\n",
    "df2 = df.select([count(when(col(c).contains('None') | \\\n",
    "                            col(c).contains('NULL') | \\\n",
    "                            (col(c) == '' ) | \\\n",
    "                            col(c).isNull() | \\\n",
    "                            isnan(c), c \n",
    "                           )).alias(c)\n",
    "                    for c in df_Columns])\n",
    "df2.show()"
   ]
  },
  {
   "cell_type": "code",
   "execution_count": 11,
   "id": "77fd2fce",
   "metadata": {},
   "outputs": [],
   "source": [
    "df.registerTempTable('table')"
   ]
  },
  {
   "cell_type": "code",
   "execution_count": 12,
   "id": "55c19b38",
   "metadata": {},
   "outputs": [
    {
     "name": "stdout",
     "output_type": "stream",
     "text": [
      "+---------------+\n",
      "|RecommendStatus|\n",
      "+---------------+\n",
      "|          FALSE|\n",
      "|           null|\n",
      "|           TRUE|\n",
      "+---------------+\n",
      "\n"
     ]
    }
   ],
   "source": [
    "sqlContext.sql('select distinct RecommendStatus from table').show(10)"
   ]
  },
  {
   "cell_type": "code",
   "execution_count": 13,
   "id": "85af4658",
   "metadata": {
    "scrolled": true
   },
   "outputs": [
    {
     "name": "stdout",
     "output_type": "stream",
     "text": [
      "+--------------+\n",
      "|PurchaseStatus|\n",
      "+--------------+\n",
      "|          TRUE|\n",
      "|         FALSE|\n",
      "+--------------+\n",
      "\n"
     ]
    }
   ],
   "source": [
    "sqlContext.sql('select distinct PurchaseStatus from table').show(10)"
   ]
  },
  {
   "cell_type": "code",
   "execution_count": 37,
   "id": "d1151a3e",
   "metadata": {},
   "outputs": [],
   "source": [
    "from pyspark.sql.functions import when\n",
    "df = df.withColumn(\"RecommendStatus\", when(df.RecommendStatus == True, 1).otherwise(0))"
   ]
  },
  {
   "cell_type": "code",
   "execution_count": 49,
   "id": "dd82bd4c",
   "metadata": {},
   "outputs": [],
   "source": [
    "df = df.withColumn(\"PurchaseStatus\", when(df.PurchaseStatus == True, 1).otherwise(0))"
   ]
  },
  {
   "cell_type": "code",
   "execution_count": 48,
   "id": "e60b72a7",
   "metadata": {},
   "outputs": [
    {
     "name": "stdout",
     "output_type": "stream",
     "text": [
      "+---------------+\n",
      "|RecommendStatus|\n",
      "+---------------+\n",
      "+---------------+\n",
      "\n"
     ]
    }
   ],
   "source": [
    "sqlContext.sql('select distinct RecommendStatus from table where RecommendStatus = 1').show(10)"
   ]
  },
  {
   "cell_type": "code",
   "execution_count": 50,
   "id": "99d6d678",
   "metadata": {},
   "outputs": [
    {
     "name": "stdout",
     "output_type": "stream",
     "text": [
      "+--------------+\n",
      "|PurchaseStatus|\n",
      "+--------------+\n",
      "|          TRUE|\n",
      "|         FALSE|\n",
      "+--------------+\n",
      "\n"
     ]
    }
   ],
   "source": [
    "sqlContext.sql('select distinct PurchaseStatus from table').show(10)"
   ]
  },
  {
   "cell_type": "code",
   "execution_count": 14,
   "id": "5ffcff86",
   "metadata": {},
   "outputs": [],
   "source": [
    "df = df.drop(\"ProductID\",\"ProductName\",\"ProductAsins\",\"ProductKeys\",\"ProductManufacturer\")"
   ]
  },
  {
   "cell_type": "code",
   "execution_count": 53,
   "id": "0b141979",
   "metadata": {},
   "outputs": [
    {
     "name": "stdout",
     "output_type": "stream",
     "text": [
      "+--------------+-----+\n",
      "|ReviewUserCity|count|\n",
      "+--------------+-----+\n",
      "|          null|34658|\n",
      "+--------------+-----+\n",
      "\n"
     ]
    }
   ],
   "source": [
    "from pyspark.sql.functions import count\n",
    "df.groupBy('ReviewUserCity').count().show()"
   ]
  },
  {
   "cell_type": "code",
   "execution_count": 54,
   "id": "2e188dd7",
   "metadata": {},
   "outputs": [
    {
     "name": "stdout",
     "output_type": "stream",
     "text": [
      "+------------------+-----+\n",
      "|ReviewUserProvince|count|\n",
      "+------------------+-----+\n",
      "|              null|34658|\n",
      "+------------------+-----+\n",
      "\n"
     ]
    }
   ],
   "source": [
    "df.groupBy('ReviewUserProvince').count().show()"
   ]
  },
  {
   "cell_type": "code",
   "execution_count": 15,
   "id": "9b7d77d1",
   "metadata": {},
   "outputs": [],
   "source": [
    "df = df.drop(\"ReviewUserCity\",\"ReviewUserProvince\")"
   ]
  },
  {
   "cell_type": "code",
   "execution_count": 16,
   "id": "d50c763c",
   "metadata": {},
   "outputs": [],
   "source": [
    "df = df.drop(\"ProductCategory\",\"ReviewUserName\",\"keys\",\"ReviewID\")"
   ]
  },
  {
   "cell_type": "code",
   "execution_count": 61,
   "id": "6668916a",
   "metadata": {},
   "outputs": [
    {
     "name": "stdout",
     "output_type": "stream",
     "text": [
      "root\n",
      " |-- ProductBrand: string (nullable = true)\n",
      " |-- ProductLauncheddate: string (nullable = true)\n",
      " |-- ReviewsdateAdded: string (nullable = true)\n",
      " |-- ReviewsDateSeen: string (nullable = true)\n",
      " |-- PurchaseStatus: integer (nullable = false)\n",
      " |-- RecommendStatus: integer (nullable = false)\n",
      " |-- ReviewHelpfulStatus: string (nullable = true)\n",
      " |-- ReviewRating: string (nullable = true)\n",
      " |-- ReviewText: string (nullable = true)\n",
      " |-- ReviewTitle: string (nullable = true)\n",
      "\n"
     ]
    }
   ],
   "source": [
    "df.printSchema()"
   ]
  },
  {
   "cell_type": "raw",
   "id": "d045a836",
   "metadata": {},
   "source": [
    "df = df.repartition(1)\n",
    "df.write.csv('PreProcessedData.csv',header = 'true')"
   ]
  },
  {
   "cell_type": "code",
   "execution_count": 66,
   "id": "60dfa836",
   "metadata": {},
   "outputs": [
    {
     "name": "stdout",
     "output_type": "stream",
     "text": [
      "+--------------------+--------+\n",
      "|        ProductBrand|count(1)|\n",
      "+--------------------+--------+\n",
      "|Amazon Digital Se...|      10|\n",
      "|      Amazon Fire Tv|    5056|\n",
      "|         Amazon Echo|     636|\n",
      "|       Amazon Coco T|       1|\n",
      "|         Amazon Fire|     256|\n",
      "|              Amazon|   28699|\n",
      "+--------------------+--------+\n",
      "\n"
     ]
    }
   ],
   "source": [
    "sqlContext.sql('select ProductBrand, Count(*) from table group by ProductBrand').show(10)"
   ]
  },
  {
   "cell_type": "code",
   "execution_count": 68,
   "id": "37e6df8e",
   "metadata": {},
   "outputs": [
    {
     "name": "stdout",
     "output_type": "stream",
     "text": [
      "+------------+--------+\n",
      "|ReviewRating|count(1)|\n",
      "+------------+--------+\n",
      "|           5|   23775|\n",
      "|           4|    8540|\n",
      "|           3|    1498|\n",
      "|           1|     410|\n",
      "|           2|     402|\n",
      "|           0|      33|\n",
      "+------------+--------+\n",
      "\n"
     ]
    }
   ],
   "source": [
    "sqlContext.sql('select ReviewRating,count(*) from table group by ReviewRating order by 2 desc').show(10)"
   ]
  },
  {
   "cell_type": "code",
   "execution_count": 47,
   "id": "e5817e68",
   "metadata": {},
   "outputs": [],
   "source": [
    "df1 = sqlContext.read.csv(\"ProcessedDataForML.csv\", header=True)"
   ]
  },
  {
   "cell_type": "code",
   "execution_count": 48,
   "id": "bbca884c",
   "metadata": {},
   "outputs": [],
   "source": [
    "from pyspark.sql.functions import when\n",
    "df1 = df1.withColumn(\"ReviewRatingClass\",when(df1.ReviewRating > 4,1).otherwise(0))"
   ]
  },
  {
   "cell_type": "code",
   "execution_count": 49,
   "id": "34885f5e",
   "metadata": {},
   "outputs": [],
   "source": [
    "df1 = df1.withColumn(\"ProductBrandID\",when(df1.ProductBrand == \"Amazon\",1).when(df1.ProductBrand == \"Amazon Fire\",2).when(df1.ProductBrand == \"Amazon Echo\",3).when(df1.ProductBrand == \"Amazon Coco T\",4).when(df1.ProductBrand == \"Amazon Fire Tv\",5).otherwise(6) )"
   ]
  },
  {
   "cell_type": "code",
   "execution_count": 50,
   "id": "da06f0fb",
   "metadata": {},
   "outputs": [],
   "source": [
    "df1.registerTempTable('DataTable')"
   ]
  },
  {
   "cell_type": "code",
   "execution_count": 14,
   "id": "3b92d7a8",
   "metadata": {},
   "outputs": [
    {
     "name": "stdout",
     "output_type": "stream",
     "text": [
      "+-----------------+--------+\n",
      "|ReviewRatingClass|count(1)|\n",
      "+-----------------+--------+\n",
      "|                1|   23775|\n",
      "|                0|   10883|\n",
      "+-----------------+--------+\n",
      "\n"
     ]
    }
   ],
   "source": [
    "sqlContext.sql('select ReviewRatingClass,count(*) from DataTable group by ReviewRatingClass order by 2 desc').show(10)"
   ]
  },
  {
   "cell_type": "code",
   "execution_count": 51,
   "id": "12cf4856",
   "metadata": {},
   "outputs": [
    {
     "name": "stdout",
     "output_type": "stream",
     "text": [
      "+-------------------+\n",
      "|ReviewHelpfulStatus|\n",
      "+-------------------+\n",
      "+-------------------+\n",
      "\n"
     ]
    }
   ],
   "source": [
    "sqlContext.sql('select distinct ReviewHelpfulStatus from DataTable where ReviewHelpfulStatus is null').show(10)"
   ]
  },
  {
   "cell_type": "code",
   "execution_count": 15,
   "id": "e549cdfc",
   "metadata": {},
   "outputs": [],
   "source": [
    "import numpy as np \n",
    "import pandas as pd\n",
    "\n",
    "import matplotlib.pyplot as plt\n",
    "from matplotlib.colors import LinearSegmentedColormap\n",
    "import seaborn as sns"
   ]
  },
  {
   "cell_type": "code",
   "execution_count": 29,
   "id": "7d335ce7",
   "metadata": {},
   "outputs": [],
   "source": [
    "X = df1.toPandas()['ReviewRatingClass'].values.tolist()"
   ]
  },
  {
   "cell_type": "code",
   "execution_count": 52,
   "id": "473074e5",
   "metadata": {},
   "outputs": [],
   "source": [
    "df2 = df1.drop('ProductBrand', 'ProductLauncheddate', 'ReviewsdateAdded', 'ReviewsDateSeen','ReviewRating', 'ReviewText', 'ReviewTitle', 'ReiewdAfter', 'ReiewdAfterAge', 'ReviewSeenAfter', 'ReviewSeenAfterAge')"
   ]
  },
  {
   "cell_type": "code",
   "execution_count": 53,
   "id": "50c82cfe",
   "metadata": {},
   "outputs": [
    {
     "name": "stdout",
     "output_type": "stream",
     "text": [
      "root\n",
      " |-- PurchaseStatus: string (nullable = true)\n",
      " |-- RecommendStatus: string (nullable = true)\n",
      " |-- ReviewHelpfulStatus: string (nullable = true)\n",
      " |-- ReviewRatingClass: integer (nullable = false)\n",
      " |-- ProductBrandID: integer (nullable = false)\n",
      "\n"
     ]
    }
   ],
   "source": [
    "df2.printSchema()"
   ]
  },
  {
   "cell_type": "code",
   "execution_count": 54,
   "id": "78e1191b",
   "metadata": {},
   "outputs": [],
   "source": [
    "(train_set, val_set, test_set) = df2.randomSplit([0.98, 0.01, 0.01], seed = 2000)"
   ]
  },
  {
   "cell_type": "code",
   "execution_count": 55,
   "id": "54a60631",
   "metadata": {},
   "outputs": [],
   "source": [
    "from pyspark.ml.feature import StringIndexer,OneHotEncoder, OneHotEncoderModel\n",
    "from pyspark.ml import Pipeline"
   ]
  },
  {
   "cell_type": "code",
   "execution_count": 56,
   "id": "9fde9ba5",
   "metadata": {},
   "outputs": [],
   "source": [
    "label_stringIdx = StringIndexer(inputCol = \"ReviewRatingClass\", outputCol = \"label\")"
   ]
  },
  {
   "cell_type": "code",
   "execution_count": 57,
   "id": "891621d8",
   "metadata": {},
   "outputs": [],
   "source": [
    "OneHot_encoder = OneHotEncoder(inputCol = \"ProductBrandID\", outputCol = \"Brand\")"
   ]
  },
  {
   "cell_type": "code",
   "execution_count": 58,
   "id": "372cd66f",
   "metadata": {},
   "outputs": [],
   "source": [
    "label_stringIdx1 = StringIndexer(inputCol = \"RecommendStatus\", outputCol = \"RecommendStatusOut\")"
   ]
  },
  {
   "cell_type": "code",
   "execution_count": 59,
   "id": "946c51c7",
   "metadata": {},
   "outputs": [],
   "source": [
    "label_stringIdx2 = StringIndexer(inputCol = \"PurchaseStatus\", outputCol = \"PurchaseStatusOut\")"
   ]
  },
  {
   "cell_type": "code",
   "execution_count": 60,
   "id": "18851d31",
   "metadata": {},
   "outputs": [],
   "source": [
    "label_stringIdx3 = StringIndexer(inputCol = \"ReviewHelpfulStatus\", outputCol = \"HelpfulStatus\")"
   ]
  },
  {
   "cell_type": "code",
   "execution_count": 61,
   "id": "0c54d144",
   "metadata": {},
   "outputs": [],
   "source": [
    "pipeline = Pipeline(stages=[OneHot_encoder,label_stringIdx1,label_stringIdx2,label_stringIdx3,label_stringIdx])"
   ]
  },
  {
   "cell_type": "code",
   "execution_count": 62,
   "id": "ae8ea54c",
   "metadata": {},
   "outputs": [
    {
     "name": "stdout",
     "output_type": "stream",
     "text": [
      "+--------------+---------------+-------------------+-----------------+--------------+-------------+------------------+-----------------+-------------+-----+\n",
      "|PurchaseStatus|RecommendStatus|ReviewHelpfulStatus|ReviewRatingClass|ProductBrandID|        Brand|RecommendStatusOut|PurchaseStatusOut|HelpfulStatus|label|\n",
      "+--------------+---------------+-------------------+-----------------+--------------+-------------+------------------+-----------------+-------------+-----+\n",
      "|             0|              0|                  0|                0|             1|(6,[1],[1.0])|               1.0|              1.0|          0.0|  1.0|\n",
      "|             0|              0|                  0|                0|             1|(6,[1],[1.0])|               1.0|              1.0|          0.0|  1.0|\n",
      "|             0|              0|                  0|                0|             1|(6,[1],[1.0])|               1.0|              1.0|          0.0|  1.0|\n",
      "|             0|              0|                  0|                0|             1|(6,[1],[1.0])|               1.0|              1.0|          0.0|  1.0|\n",
      "|             0|              0|                  0|                0|             1|(6,[1],[1.0])|               1.0|              1.0|          0.0|  1.0|\n",
      "+--------------+---------------+-------------------+-----------------+--------------+-------------+------------------+-----------------+-------------+-----+\n",
      "only showing top 5 rows\n",
      "\n"
     ]
    }
   ],
   "source": [
    "pipelineFit = pipeline.fit(train_set)\n",
    "train_df = pipelineFit.transform(train_set)\n",
    "val_df = pipelineFit.transform(val_set)\n",
    "train_df.show(5)"
   ]
  },
  {
   "cell_type": "code",
   "execution_count": 65,
   "id": "1e01f38a",
   "metadata": {},
   "outputs": [
    {
     "name": "stdout",
     "output_type": "stream",
     "text": [
      "root\n",
      " |-- PurchaseStatus: string (nullable = true)\n",
      " |-- RecommendStatus: string (nullable = true)\n",
      " |-- ReviewHelpfulStatus: string (nullable = true)\n",
      " |-- ReviewRatingClass: integer (nullable = false)\n",
      " |-- ProductBrandID: integer (nullable = false)\n",
      "\n"
     ]
    }
   ],
   "source": [
    "#from pyspark.ml.classification import LogisticRegression\n",
    "#lr = LogisticRegression(maxIter=100)\n",
    "#lrModel = lr.fit(train_df)\n",
    "#predictions = lrModel.transform(val_df)\n",
    "df2.printSchema()"
   ]
  },
  {
   "cell_type": "code",
   "execution_count": 80,
   "id": "132d2d09",
   "metadata": {},
   "outputs": [],
   "source": [
    "from pyspark.ml import Pipeline\n",
    "from pyspark.ml.feature import OneHotEncoder\n",
    "CATE_FEATURES = ['PurchaseStatus', 'RecommendStatus', 'ReviewHelpfulStatus', 'ProductBrandID']\n",
    "stages = [] # stages in our Pipeline\n",
    "for categoricalCol in CATE_FEATURES:\n",
    "    stringIndexer = StringIndexer(inputCol=categoricalCol, outputCol=categoricalCol + \"Index\")\n",
    "    encoder = OneHotEncoder(inputCols=[stringIndexer.getOutputCol()],\n",
    "                                     outputCols=[categoricalCol + \"classVec\"])\n",
    "    stages += [stringIndexer, encoder]"
   ]
  },
  {
   "cell_type": "code",
   "execution_count": 81,
   "id": "fb12e4bd",
   "metadata": {},
   "outputs": [],
   "source": [
    "label_stringIdx =  StringIndexer(inputCol=\"ReviewRatingClass\", outputCol = \"label\")\n",
    "stages += [label_stringIdx]"
   ]
  },
  {
   "cell_type": "code",
   "execution_count": 82,
   "id": "efd83a01",
   "metadata": {},
   "outputs": [],
   "source": [
    "CONTI_FEATURES  = ['ProductBrandID']\n",
    "assemblerInputs = [c + \"classVec\" for c in CATE_FEATURES] + CONTI_FEATURES"
   ]
  },
  {
   "cell_type": "code",
   "execution_count": 83,
   "id": "ca9729a8",
   "metadata": {},
   "outputs": [],
   "source": [
    "from pyspark.ml.feature import VectorAssembler\n",
    "assembler = VectorAssembler(inputCols=assemblerInputs, outputCol=\"features\")\n",
    "stages += [assembler]"
   ]
  },
  {
   "cell_type": "code",
   "execution_count": 84,
   "id": "72b37fce",
   "metadata": {},
   "outputs": [],
   "source": [
    "pipeline = Pipeline(stages=stages)\n",
    "pipelineModel = pipeline.fit(df2)\n",
    "model = pipelineModel.transform(df2)"
   ]
  },
  {
   "cell_type": "code",
   "execution_count": 85,
   "id": "fca1ad83",
   "metadata": {},
   "outputs": [
    {
     "data": {
      "text/plain": [
       "[Row(PurchaseStatus='1', RecommendStatus='1', ReviewHelpfulStatus='0', ReviewRatingClass=1, ProductBrandID=1, PurchaseStatusIndex=0.0, PurchaseStatusclassVec=SparseVector(1, {0: 1.0}), RecommendStatusIndex=0.0, RecommendStatusclassVec=SparseVector(1, {0: 1.0}), ReviewHelpfulStatusIndex=0.0, ReviewHelpfulStatusclassVec=SparseVector(95, {0: 1.0}), ProductBrandIDIndex=0.0, ProductBrandIDclassVec=SparseVector(5, {0: 1.0}), label=0.0, features=SparseVector(103, {0: 1.0, 1: 1.0, 2: 1.0, 97: 1.0, 102: 1.0}))]"
      ]
     },
     "execution_count": 85,
     "metadata": {},
     "output_type": "execute_result"
    }
   ],
   "source": [
    "model.take(1)"
   ]
  },
  {
   "cell_type": "code",
   "execution_count": 86,
   "id": "7dc9effa",
   "metadata": {},
   "outputs": [],
   "source": [
    "from pyspark.ml.linalg import DenseVector\n",
    "input_data = model.rdd.map(lambda x: (x[\"label\"], DenseVector(x[\"features\"])))"
   ]
  },
  {
   "cell_type": "code",
   "execution_count": 87,
   "id": "6f7cd49a",
   "metadata": {},
   "outputs": [],
   "source": [
    "df_train = sqlContext.createDataFrame(input_data, [\"label\", \"features\"])"
   ]
  },
  {
   "cell_type": "code",
   "execution_count": 88,
   "id": "b9fdb8e7",
   "metadata": {},
   "outputs": [
    {
     "name": "stdout",
     "output_type": "stream",
     "text": [
      "+-----+--------------------+\n",
      "|label|            features|\n",
      "+-----+--------------------+\n",
      "|  0.0|[1.0,1.0,1.0,0.0,...|\n",
      "|  0.0|[1.0,1.0,1.0,0.0,...|\n",
      "+-----+--------------------+\n",
      "only showing top 2 rows\n",
      "\n"
     ]
    }
   ],
   "source": [
    "df_train.show(2)"
   ]
  },
  {
   "cell_type": "code",
   "execution_count": 89,
   "id": "058308d9",
   "metadata": {},
   "outputs": [],
   "source": [
    "train_data, test_data = df_train.randomSplit([.8,.2],seed=1234)"
   ]
  },
  {
   "cell_type": "code",
   "execution_count": 90,
   "id": "9c786464",
   "metadata": {},
   "outputs": [
    {
     "name": "stdout",
     "output_type": "stream",
     "text": [
      "+-----+------------+\n",
      "|label|count(label)|\n",
      "+-----+------------+\n",
      "|  0.0|       18996|\n",
      "|  1.0|        8695|\n",
      "+-----+------------+\n",
      "\n"
     ]
    }
   ],
   "source": [
    "train_data.groupby('label').agg({'label': 'count'}).show()"
   ]
  },
  {
   "cell_type": "code",
   "execution_count": 91,
   "id": "12cee226",
   "metadata": {},
   "outputs": [
    {
     "name": "stdout",
     "output_type": "stream",
     "text": [
      "+-----+------------+\n",
      "|label|count(label)|\n",
      "+-----+------------+\n",
      "|  0.0|        4779|\n",
      "|  1.0|        2188|\n",
      "+-----+------------+\n",
      "\n"
     ]
    }
   ],
   "source": [
    "test_data.groupby('label').agg({'label': 'count'}).show()"
   ]
  },
  {
   "cell_type": "code",
   "execution_count": 92,
   "id": "98530df3",
   "metadata": {},
   "outputs": [],
   "source": [
    "from pyspark.ml.classification import LogisticRegression\n",
    "lr = LogisticRegression(labelCol=\"label\",\n",
    "                        featuresCol=\"features\",\n",
    "                        maxIter=10,\n",
    "                        regParam=0.3)\n",
    "linearModel = lr.fit(train_data)"
   ]
  },
  {
   "cell_type": "code",
   "execution_count": 93,
   "id": "ac2676fb",
   "metadata": {},
   "outputs": [],
   "source": [
    "predictions = linearModel.transform(test_data)"
   ]
  },
  {
   "cell_type": "code",
   "execution_count": 94,
   "id": "7f5d8f40",
   "metadata": {},
   "outputs": [
    {
     "name": "stdout",
     "output_type": "stream",
     "text": [
      "+-----+----------+--------------------+\n",
      "|label|prediction|         probability|\n",
      "+-----+----------+--------------------+\n",
      "|  0.0|       1.0|[0.36306311590078...|\n",
      "|  0.0|       0.0|[0.51074544785377...|\n",
      "|  0.0|       0.0|[0.51074544785377...|\n",
      "|  0.0|       0.0|[0.51074544785377...|\n",
      "|  0.0|       0.0|[0.51074544785377...|\n",
      "|  0.0|       0.0|[0.51074544785377...|\n",
      "|  0.0|       0.0|[0.51074544785377...|\n",
      "|  0.0|       0.0|[0.51074544785377...|\n",
      "|  0.0|       0.0|[0.51074544785377...|\n",
      "|  0.0|       0.0|[0.51074544785377...|\n",
      "|  0.0|       0.0|[0.51074544785377...|\n",
      "|  0.0|       0.0|[0.51074544785377...|\n",
      "|  0.0|       0.0|[0.51074544785377...|\n",
      "|  0.0|       0.0|[0.51074544785377...|\n",
      "|  0.0|       0.0|[0.51074544785377...|\n",
      "|  0.0|       0.0|[0.51074544785377...|\n",
      "|  0.0|       0.0|[0.51074544785377...|\n",
      "|  0.0|       0.0|[0.51074544785377...|\n",
      "|  0.0|       0.0|[0.51074544785377...|\n",
      "|  0.0|       0.0|[0.51074544785377...|\n",
      "+-----+----------+--------------------+\n",
      "only showing top 20 rows\n",
      "\n"
     ]
    }
   ],
   "source": [
    "selected = predictions.select(\"label\", \"prediction\", \"probability\")\n",
    "selected.show(20)"
   ]
  },
  {
   "cell_type": "code",
   "execution_count": 95,
   "id": "8991316e",
   "metadata": {},
   "outputs": [],
   "source": [
    "cm = predictions.select(\"label\", \"prediction\")"
   ]
  },
  {
   "cell_type": "code",
   "execution_count": 96,
   "id": "3040f7d0",
   "metadata": {},
   "outputs": [
    {
     "data": {
      "text/plain": [
       "0.7248457011626238"
      ]
     },
     "execution_count": 96,
     "metadata": {},
     "output_type": "execute_result"
    }
   ],
   "source": [
    "cm.filter(cm.label == cm.prediction).count() / cm.count()"
   ]
  },
  {
   "cell_type": "code",
   "execution_count": null,
   "id": "2b627756",
   "metadata": {},
   "outputs": [],
   "source": []
  }
 ],
 "metadata": {
  "kernelspec": {
   "display_name": "Python 3",
   "language": "python",
   "name": "python3"
  },
  "language_info": {
   "codemirror_mode": {
    "name": "ipython",
    "version": 3
   },
   "file_extension": ".py",
   "mimetype": "text/x-python",
   "name": "python",
   "nbconvert_exporter": "python",
   "pygments_lexer": "ipython3",
   "version": "3.8.8"
  }
 },
 "nbformat": 4,
 "nbformat_minor": 5
}
